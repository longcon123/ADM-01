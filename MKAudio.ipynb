{
  "nbformat": 4,
  "nbformat_minor": 0,
  "metadata": {
    "colab": {
      "provenance": [],
      "mount_file_id": "1-KEOw5GrjJ3yl-R2Wqz9e-5sglGPlPH7",
      "authorship_tag": "ABX9TyPAIrAVla8mHH3gjO1YPeEB",
      "include_colab_link": true
    },
    "kernelspec": {
      "name": "python3",
      "display_name": "Python 3"
    },
    "language_info": {
      "name": "python"
    },
    "accelerator": "GPU",
    "gpuClass": "standard"
  },
  "cells": [
    {
      "cell_type": "markdown",
      "metadata": {
        "id": "view-in-github",
        "colab_type": "text"
      },
      "source": [
        "<a href=\"https://colab.research.google.com/github/longcon123/ADM-01/blob/main/MKAudio.ipynb\" target=\"_parent\"><img src=\"https://colab.research.google.com/assets/colab-badge.svg\" alt=\"Open In Colab\"/></a>"
      ]
    },
    {
      "cell_type": "code",
      "execution_count": 2,
      "metadata": {
        "colab": {
          "base_uri": "https://localhost:8080/"
        },
        "id": "m8JjQYMaBz7f",
        "outputId": "ef679cba-579a-439b-e9e0-6e4434aae18f"
      },
      "outputs": [
        {
          "output_type": "stream",
          "name": "stdout",
          "text": [
            "Cloning into 'ADM-01'...\n",
            "remote: Enumerating objects: 14, done.\u001b[K\n",
            "remote: Counting objects: 100% (14/14), done.\u001b[K\n",
            "remote: Compressing objects: 100% (13/13), done.\u001b[K\n",
            "remote: Total 14 (delta 3), reused 0 (delta 0), pack-reused 0\u001b[K\n",
            "Unpacking objects: 100% (14/14), 7.17 KiB | 2.39 MiB/s, done.\n"
          ]
        }
      ],
      "source": [
        "!git clone https://github.com/longcon123/ADM-01.git"
      ]
    },
    {
      "cell_type": "code",
      "source": [
        "from google.colab import drive\n",
        "drive.mount('/content/drive')"
      ],
      "metadata": {
        "colab": {
          "base_uri": "https://localhost:8080/"
        },
        "id": "2hIw8Q0H7HMp",
        "outputId": "77154bce-1a0c-4378-f9a8-286105bbec40"
      },
      "execution_count": 1,
      "outputs": [
        {
          "output_type": "stream",
          "name": "stdout",
          "text": [
            "Drive already mounted at /content/drive; to attempt to forcibly remount, call drive.mount(\"/content/drive\", force_remount=True).\n"
          ]
        }
      ]
    },
    {
      "cell_type": "code",
      "source": [
        "!apt-get install ffmpeg"
      ],
      "metadata": {
        "colab": {
          "base_uri": "https://localhost:8080/"
        },
        "id": "f4kPvVsWN09g",
        "outputId": "b9adfcda-7de9-431b-f8ce-6297e7e37d87"
      },
      "execution_count": 3,
      "outputs": [
        {
          "output_type": "stream",
          "name": "stdout",
          "text": [
            "Reading package lists... Done\n",
            "Building dependency tree       \n",
            "Reading state information... Done\n",
            "ffmpeg is already the newest version (7:4.2.7-0ubuntu0.1).\n",
            "The following package was automatically installed and is no longer required:\n",
            "  libnvidia-common-525\n",
            "Use 'apt autoremove' to remove it.\n",
            "0 upgraded, 0 newly installed, 0 to remove and 23 not upgraded.\n"
          ]
        }
      ]
    },
    {
      "cell_type": "code",
      "source": [
        "!pip install -U openai-whisper\n",
        "!pip install pytube\n",
        "!pip install pydub\n",
        "!pip install pysrt"
      ],
      "metadata": {
        "id": "YJDXmy7mCZ9x"
      },
      "execution_count": null,
      "outputs": []
    },
    {
      "cell_type": "code",
      "source": [
        "%cd ADM-01"
      ],
      "metadata": {
        "colab": {
          "base_uri": "https://localhost:8080/"
        },
        "id": "aGMVBqyIC9Pf",
        "outputId": "026ab27c-c3b6-4f2a-988a-a59e06bb4b02"
      },
      "execution_count": 5,
      "outputs": [
        {
          "output_type": "stream",
          "name": "stdout",
          "text": [
            "/content/ADM-01\n"
          ]
        }
      ]
    },
    {
      "cell_type": "code",
      "source": [
        "!python get_all_mp3.py"
      ],
      "metadata": {
        "id": "K50N8UrGDBH_",
        "colab": {
          "base_uri": "https://localhost:8080/"
        },
        "outputId": "140dda11-354f-4127-fba6-c6c82fd33380"
      },
      "execution_count": null,
      "outputs": [
        {
          "output_type": "stream",
          "name": "stdout",
          "text": [
            "--- 4.76837158203125e-07 seconds ---\n",
            "==> STEP1 START!!!\n",
            "... STEP1 Running...\n",
            "Speaker02 9\n",
            "SpkSpeaker02 file0 ok\n",
            "SpkSpeaker02 file1 ok\n",
            "SpkSpeaker02 file2 ok\n",
            "SpkSpeaker02 file3 ok\n",
            "SpkSpeaker02 file4 ok\n",
            "SpkSpeaker02 file5 ok\n",
            "SpkSpeaker02 file6 ok\n",
            "SpkSpeaker02 file7 ok\n",
            "SpkSpeaker02 file8 ok\n",
            "!!!--> STEP1: GET ALL MP3 Audio DONE <--!!!\n",
            "==> STEP2 START!!!\n",
            "... STEP2 Running...\n",
            "==> STEP3 START!!!\n",
            "... STEP3 Running...\n",
            "100%|█████████████████████████████████████| 2.87G/2.87G [00:49<00:00, 62.9MiB/s]\n",
            "Speaker02/mp3/audio00.mp3\n"
          ]
        }
      ]
    },
    {
      "cell_type": "code",
      "source": [
        "import os\n",
        "import pytube\n",
        "import pandas\n",
        "import time\n",
        "from pathlib import Path\n",
        "from pydub import AudioSegment\n",
        "from glob import glob\n",
        "\n",
        "df = pandas.read_csv('speaker02.csv')\n",
        "\n",
        "spk_id = df['Id']\n",
        "spk_gender = df['Gender']\n",
        "spk_region = df['Region']\n",
        "spk_use_music = df['Music']\n",
        "spk_audio = df['Audio']\n",
        "\n",
        "def concat_mp3s(spk_ids):\n",
        "    for spk_id in spk_ids:\n",
        "      os.makedirs(spk_id+\"/data\")\n",
        "      spk_mp3_path = '{}/mp3'.format(spk_id)\n",
        "      all_mp3 = glob('{}/*.mp3'.format(spk_mp3_path))\n",
        "      print(\"Combining {}\".format(spk_id))\n",
        "      if len(all_mp3) > 1:\n",
        "          playlist_mp3 = [AudioSegment.from_file(mp3_file) for mp3_file in all_mp3]\n",
        "          combined = AudioSegment.empty()\n",
        "          for mp3 in playlist_mp3:\n",
        "              combined+=mp3\n",
        "          combined.export(spk_mp3_path+'/all.mp3', format=\"mp3\")\n",
        "          print(\"Combine Done {}\".format(spk_id))\n",
        "concat_mp3s(spk_ids=spk_id)"
      ],
      "metadata": {
        "colab": {
          "base_uri": "https://localhost:8080/"
        },
        "id": "hkLiLUixN3Fl",
        "outputId": "e0027dab-398c-4a8a-fd9b-72212c0d1cfa"
      },
      "execution_count": null,
      "outputs": [
        {
          "output_type": "stream",
          "name": "stdout",
          "text": [
            "Combining Speaker01\n"
          ]
        }
      ]
    },
    {
      "cell_type": "code",
      "source": [
        "!pip install langdetect"
      ],
      "metadata": {
        "id": "sYbl_xVdSVjb"
      },
      "execution_count": null,
      "outputs": []
    },
    {
      "cell_type": "code",
      "source": [
        "from langdetect import detect_langs\n",
        "detect_langs(\"Chào mừng bạn đến với Hello iam LOng .\")\n"
      ],
      "metadata": {
        "colab": {
          "base_uri": "https://localhost:8080/"
        },
        "id": "Lup1fZhRSgs0",
        "outputId": "91947db8-5960-43a1-f51b-a2d38ff9b9db"
      },
      "execution_count": null,
      "outputs": [
        {
          "output_type": "execute_result",
          "data": {
            "text/plain": [
              "[vi:0.9999988588890568]"
            ]
          },
          "metadata": {},
          "execution_count": 7
        }
      ]
    }
  ]
}